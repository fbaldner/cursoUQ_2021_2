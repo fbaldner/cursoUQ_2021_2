{
 "cells": [
  {
   "cell_type": "code",
   "execution_count": 12,
   "source": [
    "def randvar_pdf(data,numbins):\r\n",
    "    freq , bin_edges = np.histogram(data, bins=numbins)        # Gera o histograma -> dependência do Nunpy\r\n",
    "    bins             = bin_edges[:-1]                          # Remove o último valor de borda do bin\r\n",
    "    binwidth         = (data.max() - data.min())/(numbins - 1) # Largura dos bins\r\n",
    "    freq             = freq/(data.size*binwidth)               # Normalizando os dados\r\n",
    "    area             = binwidth*sum(freq)                      # Calculando a área do histograma...\r\n",
    "                                                               # ... deve ser ~1 pois foi normalizado\r\n",
    "    return bins, freq, area"
   ],
   "outputs": [],
   "metadata": {}
  },
  {
   "cell_type": "code",
   "execution_count": 13,
   "source": [
    "import numpy as np\r\n",
    "import math as m\r\n",
    "import matplotlib.pyplot as plt\r\n",
    "#from sklearn.neighbors import KernelDensity\r\n",
    "from scipy import stats\r\n",
    "from statsmodels.distributions.empirical_distribution import ECDF\r\n",
    "\r\n",
    "# Gerando os dados aleatórios utilizando uma distribuição beta\r\n",
    "a  = 2\r\n",
    "b  = 5\r\n",
    "Ns = 1000\r\n",
    "X     = np.random.beta(a,b,Ns)\r\n",
    "# Escolhendo o número de bins a partir do método da raiz quadrada\r\n",
    "Nbins = round(m.sqrt(Ns))\r\n",
    "Nksd  = round(0.1*Ns)\r\n",
    "\r\n",
    "# Gerando os dados do histograma da PDF\r\n",
    "X_bins, X_freq, X_area , = randvar_pdf(X , Nbins)\r\n",
    "\r\n",
    "# Estimando a PDF\r\n",
    "X_binwidth = X_bins[0] - X_bins[1]\r\n",
    "X_supp1 = np.linspace(X.min(), X.max(), Ns)\r\n",
    "X_kde   = stats.gaussian_kde(X)\r\n",
    "X_ksd   = X_kde(X_supp1)\r\n",
    "#X_kde  = KernelDensity(kernel='gaussian', bandwidth=0.5).fit(X)\r\n",
    "#X_ksd  = np.exp(X_kde.score_samples(X_supp1))\r\n",
    "# Outra opção seria usar o scipy.stats.guassian_kde(), que faz a estimativa usando um nucleo gaussiano.\r\n",
    "# A função ksdensity() do Matlab usa uma distribuição normal, por padrão.\r\n",
    "# A vantagem da sklearn.neighbors.KernelDensity é que o núcleo pode ser outro.\r\n",
    "# Ver: https://stackoverflow.com/a/28573811/11380901\r\n",
    "#      https://scikit-learn.org/stable/modules/generated/sklearn.neighbors.KernelDensity.html#sklearn.neighbors.KernelDensity\r\n",
    "#      https://docs.scipy.org/doc/scipy/reference/generated/scipy.stats.gaussian_kde.html\r\n",
    "\r\n",
    "##################################################\r\n",
    "# Estimando a CDF\r\n",
    "##################################################\r\n",
    "X_cdf = ECDF(X)"
   ],
   "outputs": [],
   "metadata": {}
  },
  {
   "cell_type": "code",
   "execution_count": 15,
   "source": [
    "plt.bar(X_bins , X_freq , X_binwidth , align='edge', edgecolor='k')\r\n",
    "plt.plot(X_supp1 , X_ksd , 'r')\r\n",
    "plt.xlim(0 , 1)"
   ],
   "outputs": [
    {
     "output_type": "execute_result",
     "data": {
      "text/plain": [
       "(0.0, 1.0)"
      ]
     },
     "metadata": {},
     "execution_count": 15
    },
    {
     "output_type": "display_data",
     "data": {
      "image/png": "[encoded data removed]",
      "text/plain": [
       "<Figure size 432x288 with 1 Axes>"
      ]
     },
     "metadata": {
      "needs_background": "light"
     }
    }
   ],
   "metadata": {}
  },
  {
   "cell_type": "code",
   "execution_count": 14,
   "source": [
    "plt.plot(X_cdf.x , X_cdf.y , 'r')\r\n",
    "plt.xlim(0 , 1)\r\n",
    "plt.ylim(0 , 1)"
   ],
   "outputs": [
    {
     "output_type": "execute_result",
     "data": {
      "text/plain": [
       "(0.0, 1.0)"
      ]
     },
     "metadata": {},
     "execution_count": 14
    },
    {
     "output_type": "display_data",
     "data": {
      "image/png": "[encoded data removed]",
      "text/plain": [
       "<Figure size 432x288 with 1 Axes>"
      ]
     },
     "metadata": {
      "needs_background": "light"
     }
    }
   ],
   "metadata": {}
  }
 ],
 "metadata": {
  "orig_nbformat": 4,
  "language_info": {
   "name": "python",
   "version": "3.9.2",
   "mimetype": "text/x-python",
   "codemirror_mode": {
    "name": "ipython",
    "version": 3
   },
   "pygments_lexer": "ipython3",
   "nbconvert_exporter": "python",
   "file_extension": ".py"
  },
  "kernelspec": {
   "name": "python3",
   "display_name": "Python 3.9.2 64-bit"
  },
  "interpreter": {
   "hash": "ac59ebe37160ed0dfa835113d9b8498d9f09ceb179beaac4002f036b9467c963"
  }
 },
 "nbformat": 4,
 "nbformat_minor": 2
}