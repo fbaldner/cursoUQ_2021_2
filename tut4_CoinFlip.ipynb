{
 "cells": [
  {
   "cell_type": "code",
   "execution_count": null,
   "source": [
    "# packages\r\n",
    "import numpy as np\r\n",
    "from random import randint\r\n",
    "\r\n",
    "# number of tosses / head probability\r\n",
    "Ntoss = 1000\r\n",
    "p = 0.5\r\n",
    "\r\n",
    "# sequence of heads size\r\n",
    "s = 10\r\n",
    "# creating list of consecutive heads\r\n",
    "Hseq = [1 for x in range(s)]\r\n",
    "\r\n",
    "# experiment realizations (head = 1 / tail = 0)\r\n",
    "HTexp = [randint(0 , 1) for x in range(Ntoss)]\r\n",
    "\r\n",
    "print(f'------------------------')\r\n",
    "print(f' Flip a Coin Experiment')\r\n",
    "print(f'------------------------')\r\n",
    "for i in HTexp:\r\n",
    "    if i == 1:\r\n",
    "        print(f'  H')\r\n",
    "    else:\r\n",
    "        print(f'  T')\r\n",
    "\r\n",
    "H = sum(HTexp)\r\n",
    "T = Ntoss-H\r\n",
    "\r\n",
    "# create a flat string from lists for easy matching/counting\r\n",
    "Hseq_str = ''.join(str(i) for i in Hseq)\r\n",
    "HTexp_str = ''.join(str(i) for i in HTexp)\r\n",
    "# Find how many times Hseq_str appears in HTexp_str\r\n",
    "N_Hseq = HTexp_str.count(Hseq_str)\r\n",
    "\r\n",
    "print(f'Heads: {H}') \r\n",
    "print(f'Tails: {T}') \r\n",
    "print(f'Number of sequences with {s} heads in a row: {N_Hseq}')"
   ],
   "outputs": [],
   "metadata": {}
  }
 ],
 "metadata": {
  "orig_nbformat": 4,
  "language_info": {
   "name": "python",
   "version": "3.9.2",
   "mimetype": "text/x-python",
   "codemirror_mode": {
    "name": "ipython",
    "version": 3
   },
   "pygments_lexer": "ipython3",
   "nbconvert_exporter": "python",
   "file_extension": ".py"
  },
  "kernelspec": {
   "name": "python3",
   "display_name": "Python 3.9.2 64-bit"
  },
  "interpreter": {
   "hash": "ac59ebe37160ed0dfa835113d9b8498d9f09ceb179beaac4002f036b9467c963"
  }
 },
 "nbformat": 4,
 "nbformat_minor": 2
}