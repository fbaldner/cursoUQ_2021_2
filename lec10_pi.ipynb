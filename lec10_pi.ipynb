{
 "cells": [
  {
   "cell_type": "code",
   "execution_count": null,
   "metadata": {},
   "outputs": [
    {
     "name": "stdout",
     "output_type": "stream",
     "text": [
      "Número de amostras dentro do circulo: 76 amostras\n",
      "Número de amostras dentro do quadrado: 100 amostras\n",
      "Área exata do círculo: 0.7853981634 u.a.\n",
      "Área estimada do círculo: 0.76 u.a.\n",
      "Valor exato de pi: 3.1415926536\n",
      "Valor estimado de pi: 3.04\n"
     ]
    },
    {
     "data": {
      "image/png": "[encoded data removed]",
      "text/plain": [
       "<Figure size 432x288 with 1 Axes>"
      ]
     },
     "metadata": {
      "needs_background": "light"
     },
     "output_type": "display_data"
    }
   ],
   "source": [
    "import numpy as np\n",
    "import matplotlib.pyplot as plt\n",
    "\n",
    "Ns = 100\n",
    "XY = np.random.uniform(low=-1/2 , high=1/2 , size=(Ns , 2))\n",
    "\n",
    "# Parâmetros das formas geométricas\n",
    "lado = 1\n",
    "raio = lado/2\n",
    "\n",
    "# Inicializando os contadores\n",
    "Ntotal = 0\n",
    "Ncirculo = 0\n",
    "\n",
    "# Plotando as formas geométricas de referência\n",
    "circulo = plt.Circle((0,0) , radius=raio , fill=False , color='m')\n",
    "quadrado = plt.Rectangle((-lado/2 , -lado/2) , width=lado , height=lado , fill=False , color='b')\n",
    "fig, ax = plt.subplots()\n",
    "ax.add_patch(circulo)\n",
    "ax.add_patch(quadrado)\n",
    "plt.xlim(-1.1*raio , 1.1*raio)\n",
    "plt.ylim(-1.1*raio , 1.1*raio)\n",
    "ax.set_aspect('equal')\n",
    "\n",
    "for xy in XY:\n",
    "    x = xy[0]\n",
    "    y = xy[1]\n",
    "\n",
    "    # Teste para verificar se o par (x,y) está dentro do quadrado\n",
    "    if abs(x) <= lado/2 and abs(y) <= lado/2:\n",
    "        plt.plot(x , y , color='r' , marker='o')\n",
    "        Ntotal += 1\n",
    "\n",
    "    # Teste para verificar se o par (x,y) está dentro do círculo\n",
    "    if (x**2) + (y**2) <= (raio**2):\n",
    "        plt.plot(x , y , color='g' , marker='x')\n",
    "        Ncirculo += 1\n",
    "\n",
    "\n",
    "Acirc_ex = np.pi * ((1/2)**2)\n",
    "\n",
    "Acirc_est = Ncirculo/Ntotal\n",
    "pi_est = 4 * Acirc_est\n",
    "\n",
    "print(f'Número de amostras dentro do circulo: {Ncirculo} amostras')\n",
    "print(f'Número de amostras dentro do quadrado: {Ntotal} amostras')\n",
    "print(f'Área exata do círculo: {Acirc_ex:.10f} u.a.')\n",
    "print(f'Área estimada do círculo: {Acirc_est} u.a.')\n",
    "print(f'Valor exato de pi: {np.pi:.10f}')\n",
    "print(f'Valor estimado de pi: {pi_est}')\n",
    "\n",
    "\n",
    "\n",
    "#plt.scatter(XY[:,0] , XY[:,1] , color='m' , marker='+')\n",
    "\n",
    "\n"
   ]
  }
 ],
 "metadata": {
  "interpreter": {
   "hash": "ac59ebe37160ed0dfa835113d9b8498d9f09ceb179beaac4002f036b9467c963"
  },
  "kernelspec": {
   "display_name": "Python 3.9.2 64-bit",
   "name": "python3"
  },
  "language_info": {
   "codemirror_mode": {
    "name": "ipython",
    "version": 3
   },
   "file_extension": ".py",
   "mimetype": "text/x-python",
   "name": "python",
   "nbconvert_exporter": "python",
   "pygments_lexer": "ipython3",
   "version": "3.9.2"
  },
  "orig_nbformat": 4
 },
 "nbformat": 4,
 "nbformat_minor": 2
}
